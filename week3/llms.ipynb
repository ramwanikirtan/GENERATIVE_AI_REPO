{
 "cells": [
  {
   "cell_type": "code",
   "execution_count": 5,
   "id": "febba945",
   "metadata": {},
   "outputs": [
    {
     "data": {
      "text/plain": [
       "True"
      ]
     },
     "execution_count": 5,
     "metadata": {},
     "output_type": "execute_result"
    }
   ],
   "source": [
    "from langchain_openai import OpenAI\n",
    "from dotenv import load_dotenv\n",
    "load_dotenv()  # take environment variables from .env"
   ]
  },
  {
   "cell_type": "code",
   "execution_count": 7,
   "id": "020df690",
   "metadata": {},
   "outputs": [],
   "source": [
    "llm = OpenAI() ## create an instance of the OpenAI model"
   ]
  },
  {
   "cell_type": "code",
   "execution_count": 8,
   "id": "6740c6a1",
   "metadata": {},
   "outputs": [],
   "source": [
    "result = llm.invoke(\"what is the capital of hungary?\")"
   ]
  },
  {
   "cell_type": "code",
   "execution_count": 11,
   "id": "c77683bb",
   "metadata": {},
   "outputs": [
    {
     "name": "stdout",
     "output_type": "stream",
     "text": [
      "\n",
      "\n",
      "The capital of Hungary is Budapest.\n"
     ]
    }
   ],
   "source": [
    "print(result)"
   ]
  },
  {
   "cell_type": "code",
   "execution_count": null,
   "id": "e29c036b",
   "metadata": {},
   "outputs": [],
   "source": []
  }
 ],
 "metadata": {
  "kernelspec": {
   "display_name": "genai",
   "language": "python",
   "name": "python3"
  },
  "language_info": {
   "codemirror_mode": {
    "name": "ipython",
    "version": 3
   },
   "file_extension": ".py",
   "mimetype": "text/x-python",
   "name": "python",
   "nbconvert_exporter": "python",
   "pygments_lexer": "ipython3",
   "version": "3.10.18"
  }
 },
 "nbformat": 4,
 "nbformat_minor": 5
}
