{
 "cells": [
  {
   "cell_type": "markdown",
   "id": "45230523",
   "metadata": {},
   "source": [
    "### What are prompts?\n",
    "Prompts are input instructions given to a model to generate specific outputs."
   ]
  },
  {
   "cell_type": "markdown",
   "id": "6500d835",
   "metadata": {},
   "source": [
    "\n",
    "### Static Prompt vs Dynamic Prompt in LangChain\n",
    "\n",
    "1. **Static Prompt**:  \n",
    "    A static prompt is a predefined, unchanging string that is passed to the language model. It remains constant regardless of the context or input data. Static prompts are useful for simple and repetitive tasks where the input does not vary significantly.\n",
    "\n",
    "2. **Dynamic Prompt**:  \n",
    "    A dynamic prompt is generated programmatically based on the context or input data. It allows for greater flexibility and customization, making it suitable for tasks where the input or requirements change dynamically.\n",
    "    In LangChain, dynamic prompts are often created using templates and variables to adapt to different inputs.\n",
    "\n",
    "By leveraging static and dynamic prompts effectively, you can tailor the behavior of language models to meet specific application needs.\n"
   ]
  },
  {
   "cell_type": "code",
   "execution_count": null,
   "id": "10daf236",
   "metadata": {},
   "outputs": [],
   "source": [
    "## static example\n",
    "prompt = \"Summarize the plot of the movie Inception in one sentence.\""
   ]
  },
  {
   "cell_type": "code",
   "execution_count": 3,
   "id": "1de464e6",
   "metadata": {},
   "outputs": [
    {
     "data": {
      "text/plain": [
       "'Please summarize the research paper titled \"{paper_input}\" with the following\\nspecifications:\\nExplanation Style: {style_input}\\nExplanation Length: (length_input}\\n1. Mathematical Details:\\n- Include relevant mathematical equations if present in the paper.\\nExplain the mathematical concepts using simple, intuitive code snippets\\nwhere applicable.\\n2. Analogies:\\n- Use relatable analogies to simplify complex ideas.\\nIf certain information is not available in the paper, respond with: \"Insufficient\\ninformation available\" instead of guessing.\\nEnsure the summary is clear, accurate, and aligned with the provided style and length '"
      ]
     },
     "execution_count": 3,
     "metadata": {},
     "output_type": "execute_result"
    }
   ],
   "source": [
    "## dynamic example\n",
    "\"\"\"Please summarize the research paper titled \"{paper_input}\" with the following\n",
    "specifications:\n",
    "Explanation Style: {style_input}\n",
    "Explanation Length: (length_input}\n",
    "1. Mathematical Details:\n",
    "- Include relevant mathematical equations if present in the paper.\n",
    "Explain the mathematical concepts using simple, intuitive code snippets\n",
    "where applicable.\n",
    "2. Analogies:\n",
    "- Use relatable analogies to simplify complex ideas.\n",
    "If certain information is not available in the paper, respond with: \"Insufficient\n",
    "information available\" instead of guessing.\n",
    "Ensure the summary is clear, accurate, and aligned with the provided style and length \"\"\""
   ]
  },
  {
   "cell_type": "code",
   "execution_count": null,
   "id": "2b3c48af",
   "metadata": {},
   "outputs": [],
   "source": []
  }
 ],
 "metadata": {
  "kernelspec": {
   "display_name": "genai",
   "language": "python",
   "name": "python3"
  },
  "language_info": {
   "codemirror_mode": {
    "name": "ipython",
    "version": 3
   },
   "file_extension": ".py",
   "mimetype": "text/x-python",
   "name": "python",
   "nbconvert_exporter": "python",
   "pygments_lexer": "ipython3",
   "version": "3.10.18"
  }
 },
 "nbformat": 4,
 "nbformat_minor": 5
}
